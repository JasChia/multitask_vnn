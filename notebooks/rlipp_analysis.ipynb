{
 "cells": [
  {
   "cell_type": "code",
   "execution_count": 45,
   "metadata": {},
   "outputs": [],
   "source": [
    "import pandas as pd\n",
    "import numpy as np\n",
    "import matplotlib.pyplot as plt\n",
    "from statsmodels.stats.multitest import multipletests\n",
    "from scipy import stats\n",
    "import math\n",
    "from sklearn.linear_model import RidgeCV, ElasticNetCV\n",
    "from sklearn.decomposition import PCA"
   ]
  },
  {
   "cell_type": "code",
   "execution_count": 88,
   "metadata": {},
   "outputs": [],
   "source": [
    "def get_top_systems(drug_list, nest_map, all_df):\n",
    "    \n",
    "    df_map = dict()\n",
    "    for drug in drug_list:\n",
    "        rlipp_df = all_df.query(\"@drug == Drug\")\n",
    "        subsys_df = rlipp_df.sort_values(by='P_rho', ascending=False, ignore_index=True)\n",
    "        subsys_df['Rank'] = 0\n",
    "        subsys_df['Name'] = ''\n",
    "        subsys_df = subsys_df[['Rank', 'Term', 'Name', 'P_rho', 'C_rho', 'RLIPP']]\n",
    "        for i, row in subsys_df.iterrows():\n",
    "            subsys_df.at[i, 'Rank'] = i+1\n",
    "            subsys_df.at[i, 'Name'] = nest_map[row['Term']]\n",
    "        df_map[drug] = subsys_df\n",
    "    return df_map"
   ]
  },
  {
   "cell_type": "code",
   "execution_count": null,
   "metadata": {},
   "outputs": [],
   "source": [
    "def bh(p_vals, alpha):\n",
    "    res = multipletests(p_vals, alpha=alpha, method='fdr_bh')\n",
    "    return res[1]\n",
    "\n",
    "bh.__name__ = 'BH'"
   ]
  },
  {
   "cell_type": "code",
   "execution_count": null,
   "metadata": {},
   "outputs": [],
   "source": [
    "def bonferroni(p_vals):\n",
    "    res = multipletests(p_vals, alpha=0.05, method='bonferroni')\n",
    "    return res[1]\n",
    "\n",
    "bonferroni.__name__ = 'Bonferroni'"
   ]
  },
  {
   "cell_type": "code",
   "execution_count": null,
   "metadata": {},
   "outputs": [],
   "source": [
    "def system_significance(ont, dataset, drug, zscore_method):\n",
    "    \n",
    "    rlipp_dict = dict()\n",
    "    for i in range(1, 101):\n",
    "        rlipp_file_list = []\n",
    "        for j in range(1, 6):\n",
    "            nf = i + 100*(j-1)\n",
    "            modeldir = '../models/mbb/model_' + ont + '_' + dataset + '_' + drug + '_' + zscore_method + '_' + str(nf)\n",
    "            rlipp_df = pd.read_csv(modeldir + '/rlipp.out', sep='\\t')[['Term', 'P_rho']]\n",
    "            rlipp_file_list.append(rlipp_df)\n",
    "        agg_df = pd.concat(rlipp_file_list, ignore_index=True)\n",
    "        agg_rlipp_df = pd.DataFrame(agg_df.groupby(['Term']).mean()).reset_index()\n",
    "        for _, row in agg_rlipp_df.iterrows():\n",
    "            term = row['Term']\n",
    "            if term not in rlipp_dict:\n",
    "                rlipp_dict[term] = []\n",
    "            rlipp_dict[term].append(row['P_rho'])\n",
    "    \n",
    "    main_rlipp_df = pd.read_csv('../models/rlipp/' + drug + '.txt', sep='\\t')\n",
    "    main_rlipp_df['t_test'] = 0.0\n",
    "    main_rlipp_df['Perm_test'] = 0.0\n",
    "    \n",
    "    for i, row in main_rlipp_df.iterrows():\n",
    "        \n",
    "        true_prho = row['P_rho']\n",
    "        term = row['Term']\n",
    "        prho_list = sorted(rlipp_dict[term], reverse=True)\n",
    "            \n",
    "        result = stats.ttest_1samp(prho_list, true_prho, alternative='less', nan_policy='raise')\n",
    "        pval = result.pvalue\n",
    "        if math.isnan(pval):\n",
    "            pval = 1.0\n",
    "        main_rlipp_df.at[i, 't_test'] = pval\n",
    "        \n",
    "        for j, prho in enumerate(prho_list):\n",
    "            if true_prho <= prho:\n",
    "                continue\n",
    "            break\n",
    "        main_rlipp_df.at[i, 'Perm_test'] = j/100\n",
    "        \n",
    "    main_rlipp_df['t_test'] = bh(main_rlipp_df['t_test'])\n",
    "    main_rlipp_df['Perm_test'] = bh(main_rlipp_df['Perm_test'])\n",
    "        \n",
    "    return rlipp_dict, main_rlipp_df"
   ]
  },
  {
   "cell_type": "code",
   "execution_count": null,
   "metadata": {},
   "outputs": [],
   "source": [
    "def system_significance_2(ont, dataset, drug, zscore_method, alpha):\n",
    "    \n",
    "    mbb_rlipp_dict = dict()\n",
    "    vnn_rlipp_dict = dict()\n",
    "    for i in range(1, 6):\n",
    "        for j in range(1, 101):\n",
    "            nf = j + 100*(i-1)\n",
    "            modeldir = '../models/mbb/model_' + ont + '_' + dataset + '_' + drug + '_' + zscore_method + '_' + str(nf)\n",
    "            rlipp_df = pd.read_csv(modeldir + '/rlipp.out', sep='\\t')[['Term', 'P_rho']]\n",
    "            for _, row in rlipp_df.iterrows():\n",
    "                term = row['Term']\n",
    "                if term not in mbb_rlipp_dict:\n",
    "                    mbb_rlipp_dict[term] = []\n",
    "                mbb_rlipp_dict[term].append(row['P_rho'])\n",
    "                \n",
    "        modeldir = '../models/model_' + ont + '_' + dataset + '_' + drug + '_' + zscore_method + '_' + str(i)\n",
    "        rlipp_df = pd.read_csv(modeldir + '/rlipp.out', sep='\\t')[['Term', 'P_rho']]\n",
    "        for _, row in rlipp_df.iterrows():\n",
    "            term = row['Term']\n",
    "            if term not in vnn_rlipp_dict:\n",
    "                vnn_rlipp_dict[term] = []\n",
    "            vnn_rlipp_dict[term].append(row['P_rho'])\n",
    "    \n",
    "    main_rlipp_df = pd.read_csv('../models/rlipp/' + drug + '.txt', sep='\\t')\n",
    "    main_rlipp_df['t_test'] = 0.0\n",
    "    \n",
    "    for i, row in main_rlipp_df.iterrows():\n",
    "        term = row['Term']\n",
    "        result = stats.ttest_ind(mbb_rlipp_dict[term], vnn_rlipp_dict[term], alternative='less')\n",
    "        pval = result.pvalue\n",
    "        if math.isnan(pval):\n",
    "            pval = 1.0\n",
    "        main_rlipp_df.at[i, 't_test'] = pval\n",
    "        \n",
    "    main_rlipp_df['t_test'] = bh(main_rlipp_df['t_test'], alpha)\n",
    "        \n",
    "    return mbb_rlipp_dict, main_rlipp_df"
   ]
  },
  {
   "cell_type": "code",
   "execution_count": null,
   "metadata": {},
   "outputs": [],
   "source": [
    "def get_shuffled_rlipp():\n",
    "    rlipp_dict = dict()\n",
    "    for i in range(1, 1001):\n",
    "        rlipp_file_list = []\n",
    "        for j in range(1, 6):\n",
    "            modeldir = '../models/shuffled_input/' + str(j) + '_' + str(i)\n",
    "            rlipp_df = pd.read_csv(modeldir + '/rlipp.out', sep='\\t')[['Term', 'P_rho']]\n",
    "            rlipp_file_list.append(rlipp_df)\n",
    "        agg_df = pd.concat(rlipp_file_list, ignore_index=True)\n",
    "        agg_rlipp_df = pd.DataFrame(agg_df.groupby(['Term']).mean()).reset_index()\n",
    "        for _, row in agg_rlipp_df.iterrows():\n",
    "            term = row['Term']\n",
    "            if term not in rlipp_dict:\n",
    "                rlipp_dict[term] = []\n",
    "            rlipp_dict[term].append(row['P_rho'])\n",
    "            \n",
    "    return rlipp_dict"
   ]
  },
  {
   "cell_type": "code",
   "execution_count": null,
   "metadata": {},
   "outputs": [],
   "source": [
    "def system_significance_shuffled_input(rlipp_dict, drug, alpha):\n",
    "    \n",
    "    main_rlipp_df = pd.read_csv('../models/rlipp/' + drug + '.txt', sep='\\t')\n",
    "    main_rlipp_df['t_test'] = 0.0\n",
    "    main_rlipp_df['Perm_test'] = 0.0\n",
    "    for i, row in main_rlipp_df.iterrows():\n",
    "        \n",
    "        term = row['Term']\n",
    "        true_prho = 0.5 #row['P_rho']\n",
    "        prho_list = sorted(rlipp_dict[term], reverse=True)\n",
    "        \n",
    "        result = stats.ttest_1samp(prho_list, true_prho, alternative='less')\n",
    "        main_rlipp_df.at[i, 't_test'] = result.pvalue\n",
    "        \n",
    "        for j, prho in enumerate(prho_list):\n",
    "            if true_prho <= prho + 1.0/1000:\n",
    "                continue\n",
    "            break\n",
    "        main_rlipp_df.at[i, 'Perm_test'] = j/1000\n",
    "        \n",
    "    main_rlipp_df['t_test'] = bh(main_rlipp_df['t_test'], alpha)\n",
    "    main_rlipp_df['Perm_test'] = bh(main_rlipp_df['Perm_test'], alpha)\n",
    "        \n",
    "    return main_rlipp_df"
   ]
  },
  {
   "cell_type": "code",
   "execution_count": 2,
   "metadata": {},
   "outputs": [],
   "source": [
    "nest_df = pd.read_csv('../data/NeST/NeST_node.csv', sep=',')\n",
    "nest_map = {row['name'].replace('.', '-'):row['Annotation'] for i, row in nest_df.iterrows()}"
   ]
  },
  {
   "cell_type": "code",
   "execution_count": 3,
   "metadata": {},
   "outputs": [],
   "source": [
    "ont = 'ctg'\n",
    "dataset = 'av'\n",
    "folds = 5\n",
    "tasks=['RS']"
   ]
  },
  {
   "cell_type": "code",
   "execution_count": 4,
   "metadata": {},
   "outputs": [
    {
     "name": "stderr",
     "output_type": "stream",
     "text": [
      "/cellar/users/asinghal/anaconda3/lib/python3.7/site-packages/IPython/core/interactiveshell.py:3441: DtypeWarning: Columns (4,5,6,7,8,9,10,11,12,13,14,15,16,18,20,21,23,24,25,26,27,28,29,30,31,32,33,34,35,36,37,38,39,40) have mixed types.Specify dtype option on import or set low_memory=False.\n",
      "  exec(code_obj, self.user_global_ns, self.user_ns)\n"
     ]
    }
   ],
   "source": [
    "drug_info = pd.read_csv(\"../data/master_druglist_smiles_final.csv\")[['name', 'isomeric_smiles']]\n",
    "drug_info['name'] = drug_info['name'].str.replace(' ','-')\n",
    "drug_info['name'] = drug_info['name'].str.replace('\"','')\n",
    "\n",
    "drug_smiles_map = dict(zip(drug_info.isomeric_smiles, drug_info.name))"
   ]
  },
  {
   "cell_type": "code",
   "execution_count": 58,
   "metadata": {},
   "outputs": [],
   "source": [
    "def exec_lm(X, y, pca_dim=2):\n",
    "    pca = PCA(n_components=pca_dim)\n",
    "    X_pca = pca.fit_transform(X)\n",
    "    regr = ElasticNetCV()\n",
    "    regr.fit(X_pca, y)\n",
    "    y_pred = regr.predict(X_pca)\n",
    "    return stats.pearsonr(y_pred, y)[0]"
   ]
  },
  {
   "cell_type": "code",
   "execution_count": 86,
   "metadata": {},
   "outputs": [],
   "source": [
    "def term_analysis(ont, dataset, task, term, drug_smiles_map, fold_size=5):\n",
    "    \n",
    "    corr_map = dict()\n",
    "    for k in range(1, fold_size+1):\n",
    "        modeldir = '../models/Final/model_' + ont + '_' + dataset + '_' + task + '_' + str(k)\n",
    "        test_df = pd.read_csv(modeldir + '/test.txt', sep='\\t')\n",
    "        predict_data = np.loadtxt(modeldir + '/predict.txt')\n",
    "        \n",
    "        system_hidden_df = pd.read_csv(modeldir + '/hidden/' + term + '.hidden', sep=' ', header=None)\n",
    "        \n",
    "        drug_list = list(test_df.columns)\n",
    "        drug_list.remove('cell_line')\n",
    "        for i, smiles in enumerate(drug_list):\n",
    "            \n",
    "            drug_test_df = test_df[['cell_line', smiles]].copy()\n",
    "            drug_test_df['pred'] = np.where(drug_test_df[smiles].notna(), predict_data[:,i], np.nan)\n",
    "            \n",
    "            merged_df = pd.concat([drug_test_df, system_hidden_df], axis=1).reindex(drug_test_df.index)\n",
    "            \n",
    "            y = merged_df['pred']\n",
    "            mask = np.isnan(y)\n",
    "            y = y[~mask]\n",
    "            X = np.array(merged_df.drop(drug_test_df.columns, axis=1))\n",
    "            X = X[~mask,:]\n",
    "            corr = exec_lm(X, y, X.shape[1])\n",
    "            \n",
    "            drug = drug_smiles_map[smiles]\n",
    "            if drug in corr_map:\n",
    "                corr_map[drug].append(corr)\n",
    "            else:\n",
    "                corr_map[drug] = [corr]\n",
    "    \n",
    "    return corr_map"
   ]
  },
  {
   "cell_type": "code",
   "execution_count": 67,
   "metadata": {},
   "outputs": [
    {
     "name": "stdout",
     "output_type": "stream",
     "text": [
      "gemcitabine [0.5385409478718337, 0.6672219924592176, 0.597079293245657, 0.5665146544638067, 0.6461019524905314]\n",
      "125316-60-1 [0.5432894519403573, 0.65814752617807, 0.5480436858027579, 0.5754099423030417, 0.6653666823952628]\n",
      "Olaparib [0.539991966862683, 0.6803238298151559, 0.586554402418771, 0.5770620153002288, 0.641389749135507]\n",
      "camptothecin [0.5122408091682337, 0.6702299481690666, 0.6028749968742091, 0.556496358867397, 0.685563736941464]\n",
      "etoposide [0.5362461348630843, 0.6716073270983497, 0.5930170285906315, 0.5670986947316987, 0.6379251546940323]\n",
      "dichloroplatinum-diammoniate [0.5054720101702788, 0.6787415682254571, 0.5922594037187643, 0.5740160032906966, 0.6635068395872064]\n"
     ]
    }
   ],
   "source": [
    "term = 'NEST:89'\n",
    "for task in tasks:\n",
    "    corr_map = term_analysis(ont, dataset, task, term, drug_smiles_map)\n",
    "    for key, value in corr_map.items():\n",
    "        print(key, value)"
   ]
  },
  {
   "cell_type": "code",
   "execution_count": null,
   "metadata": {},
   "outputs": [],
   "source": []
  },
  {
   "cell_type": "code",
   "execution_count": 89,
   "metadata": {},
   "outputs": [],
   "source": [
    "for task in tasks:\n",
    "    drugs = list(pd.read_csv('../data/training_files_' + dataset + '/task_list_' + task + '.txt', header=None, names=['D'])['D'])\n",
    "    for i in range(1, folds+1):\n",
    "        modeldir = '../models/Final/model_' + ont + '_' + dataset + '_' + task + '_' + str(i)\n",
    "        rlipp_df = pd.read_csv(modeldir + '/rlipp.out', sep='\\t')\n",
    "        df_map = get_top_systems(drugs, nest_map, rlipp_df)\n",
    "        for smiles, df in df_map.items():\n",
    "            df.to_csv(modeldir + '/subsystem_ranks_' +  drug_smiles_map[smiles] + '.txt', sep='\\t', index=False)"
   ]
  },
  {
   "cell_type": "code",
   "execution_count": 91,
   "metadata": {},
   "outputs": [],
   "source": [
    "#Merging p_rho\n",
    "\n",
    "for task in tasks:\n",
    "    task_rlipp = []\n",
    "    drugs = list(pd.read_csv('../data/training_files_' + dataset + '/task_list_' + task + '.txt', header=None, names=['D'])['D'])\n",
    "    for drug in drugs:\n",
    "        agg_terms = []\n",
    "        for i in range(1, folds+1):\n",
    "            modeldir = '../models/Final/model_' + ont + '_' + dataset + '_' + task + '_' + str(i)\n",
    "            subsys_df = pd.read_csv(modeldir + '/subsystem_ranks_' +  drug_smiles_map[drug] + '.txt', sep='\\t')[['Term', 'Name', 'P_rho', 'C_rho', 'RLIPP']]\n",
    "            agg_terms.append(subsys_df)\n",
    "\n",
    "        agg_df = pd.concat(agg_terms, ignore_index=True)\n",
    "        agg_rlipp_df = pd.DataFrame(agg_df.groupby(['Term', 'Name']).mean()).reset_index()\n",
    "        agg_rlipp_df = agg_rlipp_df.sort_values(by='P_rho', ascending=False)\n",
    "        agg_rlipp_df.to_csv('../models/SI_scores/' + ont + '_' + dataset + '_' + task + '_' + drug_smiles_map[drug] + '.txt', sep='\\t', float_format='%.4f', index=False)\n",
    "        task_rlipp.append(agg_rlipp_df)\n",
    "    \n",
    "    avg_df = pd.concat(task_rlipp, ignore_index=True)\n",
    "    task_df = pd.DataFrame(avg_df.groupby(['Term']).mean()).reset_index()\n",
    "    task_df = task_df.sort_values(by='P_rho', ascending=False)\n",
    "    task_df.to_csv('../models/SI_scores/' + ont + '_' + dataset + '_' + task + '.txt', sep='\\t', float_format='%.4f', index=False)"
   ]
  },
  {
   "cell_type": "code",
   "execution_count": null,
   "metadata": {},
   "outputs": [],
   "source": [
    "prho_avg = []\n",
    "\n",
    "drug = 'ML-210'\n",
    "ML210_rlipp_df = pd.read_csv(modeldir_prefix + 'rlipp/' + ont + '_' + dataset + '_' + drug + '.txt', sep='\\t')[['Term', 'P_rho']]\n",
    "ML210_rlipp_df.sort_values(by='Term', inplace=True)\n",
    "prho_avg.append(ML210_rlipp_df)\n",
    "\n",
    "drug = '1035072-16-2'\n",
    "ML162_rlipp_df = pd.read_csv(modeldir_prefix + 'rlipp/' + ont + '_' + dataset + '_' + drug + '.txt', sep='\\t')[['Term', 'P_rho']]\n",
    "ML162_rlipp_df.sort_values(by='Term', inplace=True)\n",
    "prho_avg.append(ML162_rlipp_df)\n",
    "\n",
    "drug = 'RSL3'\n",
    "RSL3_rlipp_df = pd.read_csv(modeldir_prefix + 'rlipp/' + ont + '_' + dataset + '_' + drug + '.txt', sep='\\t')[['Term', 'P_rho']]\n",
    "RSL3_rlipp_df.sort_values(by='Term', inplace=True)\n",
    "prho_avg.append(RSL3_rlipp_df)"
   ]
  },
  {
   "cell_type": "code",
   "execution_count": null,
   "metadata": {},
   "outputs": [],
   "source": [
    "avg_df = pd.concat(prho_avg, ignore_index=True)\n",
    "prho_df = pd.DataFrame(avg_df.groupby(['Term']).mean()).reset_index()\n",
    "prho_df = prho_df.sort_values(by='P_rho', ascending=False)\n",
    "prho_df.to_csv(modeldir_prefix + 'rlipp/gpx4i_avg_' + ont + '_' + dataset + '_' + drug + '.txt', sep='\\t', float_format='%.2e', index=False)"
   ]
  },
  {
   "cell_type": "code",
   "execution_count": null,
   "metadata": {},
   "outputs": [],
   "source": []
  },
  {
   "cell_type": "code",
   "execution_count": null,
   "metadata": {},
   "outputs": [],
   "source": []
  }
 ],
 "metadata": {
  "kernelspec": {
   "display_name": "Python 3 (ipykernel)",
   "language": "python",
   "name": "python3"
  },
  "language_info": {
   "codemirror_mode": {
    "name": "ipython",
    "version": 3
   },
   "file_extension": ".py",
   "mimetype": "text/x-python",
   "name": "python",
   "nbconvert_exporter": "python",
   "pygments_lexer": "ipython3",
   "version": "3.7.10"
  }
 },
 "nbformat": 4,
 "nbformat_minor": 4
}
