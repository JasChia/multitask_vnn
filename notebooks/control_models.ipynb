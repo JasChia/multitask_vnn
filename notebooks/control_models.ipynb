{
 "cells": [
  {
   "cell_type": "code",
   "execution_count": 1,
   "id": "da0715b5-eb56-497b-a357-dcd0db867604",
   "metadata": {},
   "outputs": [],
   "source": [
    "import pandas as pd\n",
    "import numpy as np\n",
    "import math\n",
    "import matplotlib.pyplot as plt\n",
    "import itertools\n",
    "import copy\n",
    "from matplotlib.ticker import FormatStrFormatter\n",
    "from scipy import stats\n",
    "import seaborn as sns\n",
    "from sklearn.metrics import r2_score\n",
    "from sklearn.preprocessing import scale\n",
    "from sklearn.preprocessing import robust_scale\n",
    "from sklearn.metrics import confusion_matrix\n",
    "from sklearn import metrics\n",
    "from tabulate import tabulate\n",
    "from sklearn.decomposition import PCA\n",
    "from ddot import Ontology\n",
    "\n",
    "pd.options.mode.chained_assignment = None  # default='warn'"
   ]
  },
  {
   "cell_type": "code",
   "execution_count": 2,
   "id": "e64851da-5780-414c-816a-da0042e0d7b6",
   "metadata": {},
   "outputs": [
    {
     "data": {
      "text/html": [
       "<svg  width=\"550\" height=\"55\"><rect x=\"0\" y=\"0\" width=\"55\" height=\"55\" style=\"fill:#4878d0;stroke-width:2;stroke:rgb(255,255,255)\"/><rect x=\"55\" y=\"0\" width=\"55\" height=\"55\" style=\"fill:#ee854a;stroke-width:2;stroke:rgb(255,255,255)\"/><rect x=\"110\" y=\"0\" width=\"55\" height=\"55\" style=\"fill:#6acc64;stroke-width:2;stroke:rgb(255,255,255)\"/><rect x=\"165\" y=\"0\" width=\"55\" height=\"55\" style=\"fill:#d65f5f;stroke-width:2;stroke:rgb(255,255,255)\"/><rect x=\"220\" y=\"0\" width=\"55\" height=\"55\" style=\"fill:#956cb4;stroke-width:2;stroke:rgb(255,255,255)\"/><rect x=\"275\" y=\"0\" width=\"55\" height=\"55\" style=\"fill:#8c613c;stroke-width:2;stroke:rgb(255,255,255)\"/><rect x=\"330\" y=\"0\" width=\"55\" height=\"55\" style=\"fill:#dc7ec0;stroke-width:2;stroke:rgb(255,255,255)\"/><rect x=\"385\" y=\"0\" width=\"55\" height=\"55\" style=\"fill:#797979;stroke-width:2;stroke:rgb(255,255,255)\"/><rect x=\"440\" y=\"0\" width=\"55\" height=\"55\" style=\"fill:#d5bb67;stroke-width:2;stroke:rgb(255,255,255)\"/><rect x=\"495\" y=\"0\" width=\"55\" height=\"55\" style=\"fill:#82c6e2;stroke-width:2;stroke:rgb(255,255,255)\"/></svg>"
      ],
      "text/plain": [
       "[(0.2823529411764706, 0.47058823529411764, 0.8156862745098039),\n",
       " (0.9333333333333333, 0.5215686274509804, 0.2901960784313726),\n",
       " (0.41568627450980394, 0.8, 0.39215686274509803),\n",
       " (0.8392156862745098, 0.37254901960784315, 0.37254901960784315),\n",
       " (0.5843137254901961, 0.4235294117647059, 0.7058823529411765),\n",
       " (0.5490196078431373, 0.3803921568627451, 0.23529411764705882),\n",
       " (0.8627450980392157, 0.49411764705882355, 0.7529411764705882),\n",
       " (0.4745098039215686, 0.4745098039215686, 0.4745098039215686),\n",
       " (0.8352941176470589, 0.7333333333333333, 0.403921568627451),\n",
       " (0.5098039215686274, 0.7764705882352941, 0.8862745098039215)]"
      ]
     },
     "execution_count": 2,
     "metadata": {},
     "output_type": "execute_result"
    }
   ],
   "source": [
    "sns.set()\n",
    "sns.set_style(\"white\")\n",
    "sns.set_style(\"ticks\", {\"xtick.major.size\":8, \"ytick.major.size\":8})\n",
    "sns.axes_style(\"whitegrid\")\n",
    "sns.set_palette(\"muted\")\n",
    "sns.color_palette(\"muted\")"
   ]
  },
  {
   "cell_type": "code",
   "execution_count": 3,
   "id": "ba0b7135-3915-4275-b091-5c8b3a52d04b",
   "metadata": {},
   "outputs": [],
   "source": [
    "plt.rcParams['svg.fonttype'] = 'none'\n",
    "\n",
    "SMALL_SIZE = 12\n",
    "MEDIUM_SIZE = 16\n",
    "BIGGER_SIZE = 22\n",
    "\n",
    "plt.rc('font', size=SMALL_SIZE)          # controls default text sizes\n",
    "plt.rc('axes', titlesize=SMALL_SIZE)     # fontsize of the axes title\n",
    "plt.rc('axes', labelsize=MEDIUM_SIZE)    # fontsize of the x and y labels\n",
    "plt.rc('xtick', labelsize=SMALL_SIZE)    # fontsize of the tick labels\n",
    "plt.rc('ytick', labelsize=SMALL_SIZE)    # fontsize of the tick labels\n",
    "plt.rc('legend', fontsize=SMALL_SIZE)    # legend fontsize\n",
    "plt.rc('figure', titlesize=BIGGER_SIZE)  # fontsize of the figure title"
   ]
  },
  {
   "cell_type": "code",
   "execution_count": 4,
   "id": "d02dcc9c-d258-4477-8ee0-5ce2d02a65a3",
   "metadata": {},
   "outputs": [],
   "source": [
    "def read_file(filename, delim='\\n'):\n",
    "\trfile = open(filename, 'r')\n",
    "\titem_list = rfile.read().strip().split(delim)\n",
    "\trfile.close()\n",
    "\treturn item_list"
   ]
  },
  {
   "cell_type": "code",
   "execution_count": 5,
   "id": "812f0049-ab58-4d73-b922-1e76bc56e953",
   "metadata": {},
   "outputs": [
    {
     "name": "stderr",
     "output_type": "stream",
     "text": [
      "/cellar/users/asinghal/anaconda3/lib/python3.7/site-packages/IPython/core/interactiveshell.py:3441: DtypeWarning: Columns (4,5,6,7,8,9,10,11,12,13,14,15,16,18,20,21,23,24,25,26,27,28,29,30,31,32,33,34,35,36,37,38,39,40) have mixed types.Specify dtype option on import or set low_memory=False.\n",
      "  exec(code_obj, self.user_global_ns, self.user_ns)\n"
     ]
    }
   ],
   "source": [
    "ont = 'ctg'\n",
    "dataset = 'av'\n",
    "\n",
    "drug_info = pd.read_csv(\"../data/master_druglist_smiles_final.csv\")[['name', 'isomeric_smiles', 'ctrp2_name']]\n",
    "drug_info['name'] = drug_info['name'].str.replace(' ','-')\n",
    "drug_info['name'] = drug_info['name'].str.replace('\"','')\n",
    "\n",
    "drug_smiles_map = dict(zip(drug_info.isomeric_smiles, drug_info.name))\n",
    "\n",
    "drug_name_map = dict(zip(drug_info.name, drug_info.isomeric_smiles))"
   ]
  },
  {
   "cell_type": "code",
   "execution_count": 6,
   "id": "bd21a252-fe50-4dec-83eb-5ee535dd03a1",
   "metadata": {},
   "outputs": [],
   "source": [
    "task = 'RS'\n",
    "    \n",
    "task_file='../data/training_files_' + dataset + '/task_list_' + task + '.txt'\n",
    "rs_drugs = read_file(task_file)"
   ]
  },
  {
   "cell_type": "code",
   "execution_count": 7,
   "id": "d3fa9116-ea80-4dee-817c-4b75b199a884",
   "metadata": {},
   "outputs": [],
   "source": [
    "control_drugs_names = ['Ursolic-acid', 'Afatinib', 'Gefitinib']\n",
    "control_drugs = [drug_name_map[d] for d in control_drugs_names]"
   ]
  },
  {
   "cell_type": "code",
   "execution_count": 8,
   "id": "af56d678-72ee-4f87-89f4-4c7305ef986d",
   "metadata": {},
   "outputs": [],
   "source": [
    "all_combinations = []\n",
    "for i in range(1, len(control_drugs) + 1):\n",
    "    ctrl_list_list = [list(c) for c in itertools.combinations(control_drugs, i)]\n",
    "    rs_list_list = [list(c) for c in itertools.combinations(rs_drugs, len(rs_drugs) - i)]\n",
    "    for rs_list in rs_list_list:\n",
    "        for cl in ctrl_list_list:\n",
    "            dl = copy.deepcopy(rs_list)\n",
    "            dl.extend(cl)\n",
    "            all_combinations.append(dl)"
   ]
  },
  {
   "cell_type": "code",
   "execution_count": 12,
   "id": "e10e354c-1a33-4751-b113-2ca6ee8d73aa",
   "metadata": {},
   "outputs": [],
   "source": [
    "for i, dl in enumerate(all_combinations):\n",
    "    task_file='../data/training_files_' + dataset + '/control/task_list_' + task + '_' + str(i+1) + '.txt'\n",
    "    with open(task_file, 'w') as fp:\n",
    "        for drug in dl:\n",
    "            fp.write(\"%s\\n\" % drug)"
   ]
  },
  {
   "cell_type": "code",
   "execution_count": null,
   "id": "279034ba-46c3-40e3-bec9-55c7f23d0c33",
   "metadata": {},
   "outputs": [],
   "source": []
  }
 ],
 "metadata": {
  "kernelspec": {
   "display_name": "Python 3 (ipykernel)",
   "language": "python",
   "name": "python3"
  },
  "language_info": {
   "codemirror_mode": {
    "name": "ipython",
    "version": 3
   },
   "file_extension": ".py",
   "mimetype": "text/x-python",
   "name": "python",
   "nbconvert_exporter": "python",
   "pygments_lexer": "ipython3",
   "version": "3.7.10"
  }
 },
 "nbformat": 4,
 "nbformat_minor": 5
}
